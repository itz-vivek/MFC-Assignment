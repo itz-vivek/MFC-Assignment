{
 "cells": [
  {
   "cell_type": "code",
   "execution_count": 34,
   "id": "72590090",
   "metadata": {},
   "outputs": [
    {
     "name": "stdout",
     "output_type": "stream",
     "text": [
      "Degrees: {'A': 2, 'B': 3, 'C': 2, 'D': 1}\n",
      "Sorted: ['D', 'A', 'C', 'B']\n"
     ]
    }
   ],
   "source": [
    "# Q1.Write a code to find the degree of each vertex, and store it in a dictionary. \n",
    "# Sort the keys of the dictionary by the degree stored in the values.\n",
    "\n",
    "\n",
    "class Graph:\n",
    "    def __init__(self):\n",
    "        self.edges = []\n",
    "\n",
    "    def add(self, u, v):\n",
    "        self.edges.append((u, v))\n",
    "\n",
    "    def degree(self):\n",
    "        deg = {}\n",
    "        for u, v in self.edges:\n",
    "            deg[u] = deg.get(u, 0) + 1\n",
    "            deg[v] = deg.get(v, 0) + 1\n",
    "        return deg\n",
    "\n",
    "    def sorted_by_degree(self):\n",
    "        deg = self.degree()\n",
    "        return sorted(deg, key=deg.get)\n",
    "\n",
    "g = Graph()\n",
    "g.add('A', 'B')\n",
    "g.add('A', 'C')\n",
    "g.add('B', 'C')\n",
    "g.add('B', 'D')\n",
    "\n",
    "print(\"Degrees:\", g.degree())\n",
    "print(\"Sorted:\", g.sorted_by_degree())\n"
   ]
  },
  {
   "cell_type": "code",
   "execution_count": 35,
   "id": "258bd9eb",
   "metadata": {},
   "outputs": [
    {
     "name": "stdout",
     "output_type": "stream",
     "text": [
      "Adjacency List: {0: [1, 2], 1: [0, 2], 2: [0, 1, 3], 3: [2]}\n",
      "Edge List: [(0, 1), (0, 2), (1, 2), (2, 3)]\n",
      "Adjacency Matrix:\n",
      "[0, 1, 1, 0]\n",
      "[1, 0, 1, 0]\n",
      "[1, 1, 0, 1]\n",
      "[0, 0, 1, 0]\n"
     ]
    }
   ],
   "source": [
    "#Q2. Write a code to inter-convert the 3 graph representations we have learn\n",
    "\n",
    "class Graph:\n",
    "    def __init__(self, n):\n",
    "        self.n = n  \n",
    "\n",
    "    def matrix_to_list(self, matrix):\n",
    "        adj_list = {}\n",
    "        for i in range(self.n):\n",
    "            adj_list[i] = []\n",
    "            for j in range(self.n):\n",
    "                if matrix[i][j] == 1:\n",
    "                    adj_list[i].append(j)\n",
    "        return adj_list\n",
    "\n",
    "    def list_to_edge_list(self, adj_list):\n",
    "        edges = []\n",
    "        for u in adj_list:\n",
    "            for v in adj_list[u]:\n",
    "                if (v, u) not in edges:\n",
    "                    edges.append((u, v))\n",
    "        return edges\n",
    "\n",
    "    def edge_list_to_matrix(self, edge_list):\n",
    "        matrix = [[0]*self.n for _ in range(self.n)]\n",
    "        for u, v in edge_list:\n",
    "            matrix[u][v] = 1\n",
    "            matrix[v][u] = 1\n",
    "        return matrix\n",
    "\n",
    "\n",
    "g = Graph(4)\n",
    "\n",
    "adj_matrix = [\n",
    "    [0, 1, 1, 0],\n",
    "    [1, 0, 1, 0],\n",
    "    [1, 1, 0, 1],\n",
    "    [0, 0, 1, 0]\n",
    "]\n",
    "\n",
    "\n",
    "adj_list = g.matrix_to_list(adj_matrix)\n",
    "print(\"Adjacency List:\", adj_list)\n",
    "\n",
    "edge_list = g.list_to_edge_list(adj_list)\n",
    "print(\"Edge List:\", edge_list)\n",
    "\n",
    "new_matrix = g.edge_list_to_matrix(edge_list)\n",
    "print(\"Adjacency Matrix:\")\n",
    "for row in new_matrix:\n",
    "    print(row)\n"
   ]
  },
  {
   "cell_type": "code",
   "execution_count": 36,
   "id": "d890a687",
   "metadata": {},
   "outputs": [
    {
     "name": "stdout",
     "output_type": "stream",
     "text": [
      "Are 0 and 1 adjacent? True\n",
      "Are 0 and 2 adjacent? False\n"
     ]
    }
   ],
   "source": [
    "#Q3. Given a graph and two vertices, check if they are adjacent.\n",
    "\n",
    "class Graph:\n",
    "    def __init__(self):\n",
    "        self.adj_list = {}\n",
    "\n",
    "    def add_edge(self, u, v):\n",
    "        if u not in self.adj_list:\n",
    "            self.adj_list[u] = []\n",
    "        if v not in self.adj_list:\n",
    "            self.adj_list[v] = []\n",
    "        self.adj_list[u].append(v)\n",
    "        self.adj_list[v].append(u)\n",
    "\n",
    "    def are_adjacent(self, u, v):\n",
    "        return v in self.adj_list.get(u, [])\n",
    "    \n",
    "    \n",
    "g = Graph()\n",
    "g.add_edge(0, 1)\n",
    "g.add_edge(1, 2)\n",
    "\n",
    "print(\"Are 0 and 1 adjacent?\", g.are_adjacent(0, 1))  \n",
    "print(\"Are 0 and 2 adjacent?\", g.are_adjacent(0, 2))  \n",
    "\n"
   ]
  },
  {
   "cell_type": "code",
   "execution_count": 37,
   "id": "3d4000d8",
   "metadata": {},
   "outputs": [
    {
     "name": "stdout",
     "output_type": "stream",
     "text": [
      "True\n"
     ]
    }
   ],
   "source": [
    "# Q4.Check if the graph is complete\n",
    "\n",
    "class Graph:\n",
    "    def __init__(self):\n",
    "        self.graph = {}\n",
    "\n",
    "    def add_edge(self, u, v):\n",
    "        if u not in self.graph:\n",
    "            self.graph[u] = []\n",
    "        if v not in self.graph:\n",
    "            self.graph[v] = []\n",
    "        self.graph[u].append(v)\n",
    "        self.graph[v].append(u)\n",
    "\n",
    "    def is_complete(self):\n",
    "        num_vertices = len(self.graph)\n",
    "        for u in self.graph:\n",
    "            if len(self.graph[u]) != num_vertices - 1:\n",
    "                return False\n",
    "        return True\n",
    "\n",
    "\n",
    "graph = Graph()\n",
    "graph.add_edge(0, 1)\n",
    "graph.add_edge(1, 2)\n",
    "graph.add_edge(2, 0)\n",
    "print(graph.is_complete())  \n"
   ]
  },
  {
   "cell_type": "code",
   "execution_count": 38,
   "id": "39b7bd9d",
   "metadata": {},
   "outputs": [
    {
     "name": "stdout",
     "output_type": "stream",
     "text": [
      "True\n"
     ]
    }
   ],
   "source": [
    "# Q5.Check if the graph is connected\n",
    "\n",
    "class Graph:\n",
    "    def __init__(self):\n",
    "        self.graph = {}\n",
    "\n",
    "    def add_edge(self, u, v):\n",
    "        if u not in self.graph:\n",
    "            self.graph[u] = []\n",
    "        if v not in self.graph:\n",
    "            self.graph[v] = []\n",
    "        self.graph[u].append(v)\n",
    "        self.graph[v].append(u)\n",
    "\n",
    "    def is_connected(self):\n",
    "        visited = set()\n",
    "\n",
    "        def dfs(v):\n",
    "            visited.add(v)\n",
    "            for neighbor in self.graph[v]:\n",
    "                if neighbor not in visited:\n",
    "                    dfs(neighbor)\n",
    "\n",
    "        dfs(next(iter(self.graph)))  \n",
    "        return len(visited) == len(self.graph)\n",
    "\n",
    "\n",
    "graph = Graph()\n",
    "graph.add_edge(0, 1)\n",
    "graph.add_edge(1, 2)\n",
    "graph.add_edge(2, 0)\n",
    "print(graph.is_connected())  \n"
   ]
  },
  {
   "cell_type": "code",
   "execution_count": 39,
   "id": "320749a4",
   "metadata": {},
   "outputs": [
    {
     "name": "stdout",
     "output_type": "stream",
     "text": [
      "Path\n",
      "Walk\n",
      "Walk\n",
      "Not a Walk\n"
     ]
    }
   ],
   "source": [
    "# Q6.Given a graph and a list of vertices, check if it forms a walk, or a trail or a path or none of these.\n",
    "\n",
    "class Graph:\n",
    "    def __init__(self):\n",
    "        self.adj_list = {}\n",
    "\n",
    "    def add_edge(self, u, v):\n",
    "        self.adj_list.setdefault(u, []).append(v)\n",
    "        self.adj_list.setdefault(v, []).append(u) \n",
    "\n",
    "    def check_sequence(self, sequence):\n",
    "        edges_seen = set()\n",
    "        vertices_seen = set()\n",
    "        is_walk = True\n",
    "        is_trail = True\n",
    "\n",
    "        for i in range(len(sequence) - 1):\n",
    "            u, v = sequence[i], sequence[i + 1]\n",
    "            if v not in self.adj_list.get(u, []):\n",
    "                is_walk = False\n",
    "                break\n",
    "            edge = tuple(sorted((u, v)))\n",
    "            if edge in edges_seen:\n",
    "                is_trail = False\n",
    "            edges_seen.add(edge)\n",
    "\n",
    "        is_path = len(sequence) == len(set(sequence))\n",
    "\n",
    "        if not is_walk:\n",
    "            return \"Not a Walk\"\n",
    "        elif is_path:\n",
    "            return \"Path\"\n",
    "        elif is_trail:\n",
    "            return \"Trail\"\n",
    "        else:\n",
    "            return \"Walk\"\n",
    "        \n",
    "\n",
    "g = Graph()\n",
    "g.add_edge(0, 1)\n",
    "g.add_edge(1, 2)\n",
    "g.add_edge(2, 3)\n",
    "g.add_edge(3, 1) \n",
    "\n",
    "print(g.check_sequence([0, 1, 2, 3]))     \n",
    "print(g.check_sequence([0, 1, 2, 1, 3]))   \n",
    "print(g.check_sequence([0, 1, 2, 1, 2]))   \n",
    "print(g.check_sequence([0, 2, 3]))         \n",
    "\n"
   ]
  },
  {
   "cell_type": "code",
   "execution_count": 40,
   "id": "e08901c8",
   "metadata": {},
   "outputs": [
    {
     "name": "stdout",
     "output_type": "stream",
     "text": [
      "True\n"
     ]
    }
   ],
   "source": [
    "# Q7.Check if the graph is a tree\n",
    "\n",
    "class Graph_tree:\n",
    "    def __init__(self):\n",
    "        self.graph = {}\n",
    "\n",
    "    def add_edge(self, u, v):\n",
    "        if u not in self.graph:\n",
    "            self.graph[u] = []\n",
    "        if v not in self.graph:\n",
    "            self.graph[v] = []\n",
    "        self.graph[u].append(v)\n",
    "        self.graph[v].append(u)\n",
    "\n",
    "    def is_tree(self):\n",
    "        def dfs(v, visited, parent):\n",
    "            visited.add(v)\n",
    "            for neighbor in self.graph[v]:\n",
    "                if neighbor not in visited:\n",
    "                    if not dfs(neighbor, visited, v):\n",
    "                        return False\n",
    "                elif parent != neighbor:\n",
    "                    return False\n",
    "            return True\n",
    "\n",
    "        visited = set()\n",
    "        if not dfs(next(iter(self.graph)), visited, None):\n",
    "            return False\n",
    "        return len(visited) == len(self.graph) and len(self.graph) - 1 == sum(len(neighbors) for neighbors in self.graph.values()) // 2\n",
    "\n",
    "\n",
    "graph = Graph_tree()\n",
    "graph.add_edge(0, 1)\n",
    "graph.add_edge(1, 2)\n",
    "graph.add_edge(2, 3)\n",
    "print(graph.is_tree())  \n"
   ]
  },
  {
   "cell_type": "code",
   "execution_count": 41,
   "id": "c5396c8d",
   "metadata": {},
   "outputs": [
    {
     "name": "stdout",
     "output_type": "stream",
     "text": [
      "Spanning Tree Edges: [(0, 1), (1, 2), (1, 3), (3, 4)]\n"
     ]
    }
   ],
   "source": [
    "# Q8.Given a connected cyclic graph, find its spanning tree\n",
    "\n",
    "class Graph:\n",
    "    def __init__(self, vertices):\n",
    "        self.v = vertices\n",
    "        self.adj = {i: [] for i in range(vertices)}\n",
    "\n",
    "    def add_edge(self, u, v):\n",
    "        self.adj[u].append(v)\n",
    "        self.adj[v].append(u)  \n",
    "\n",
    "    def dfs_spanning_tree(self, u, visited, spanning_tree_edges):\n",
    "        visited[u] = True\n",
    "        for v in self.adj[u]:\n",
    "            if not visited[v]:\n",
    "                spanning_tree_edges.append((u, v))\n",
    "                self.dfs_spanning_tree(v, visited, spanning_tree_edges)\n",
    "\n",
    "    def get_spanning_tree(self):\n",
    "        visited = [False] * self.v\n",
    "        spanning_tree_edges = []\n",
    "        self.dfs_spanning_tree(0, visited, spanning_tree_edges)\n",
    "        return spanning_tree_edges\n",
    "\n",
    "\n",
    "g = Graph(5)\n",
    "g.add_edge(0, 1)\n",
    "g.add_edge(0, 2)\n",
    "g.add_edge(1, 2)\n",
    "g.add_edge(1, 3)\n",
    "g.add_edge(3, 4)\n",
    "\n",
    "spanning_tree = g.get_spanning_tree()\n",
    "print(\"Spanning Tree Edges:\", spanning_tree)\n"
   ]
  },
  {
   "cell_type": "code",
   "execution_count": 42,
   "id": "4d84cd0a",
   "metadata": {},
   "outputs": [
    {
     "name": "stdout",
     "output_type": "stream",
     "text": [
      "Number of leaf nodes: 3\n"
     ]
    }
   ],
   "source": [
    "# Q9.Given a tree, find the number of leaf nodes.\n",
    "\n",
    "\n",
    "class Tree:\n",
    "    def __init__(self, vertices):\n",
    "        self.v = vertices\n",
    "        self.adj = {i: [] for i in range(vertices)}\n",
    "\n",
    "    def add_edge(self, u, v):\n",
    "        self.adj[u].append(v)\n",
    "        self.adj[v].append(u)\n",
    "\n",
    "    def count_leaf_nodes(self):\n",
    "        count = 0\n",
    "        for node in self.adj:\n",
    "            \n",
    "            if len(self.adj[node]) == 1 or (len(self.adj[node]) == 0 and self.v == 1):\n",
    "                count += 1\n",
    "        return count\n",
    "\n",
    "t = Tree(5)\n",
    "t.add_edge(0, 1)\n",
    "t.add_edge(0, 2)\n",
    "t.add_edge(1, 3)\n",
    "t.add_edge(1, 4)\n",
    "\n",
    "print(\"Number of leaf nodes:\", t.count_leaf_nodes())  \n"
   ]
  },
  {
   "cell_type": "code",
   "execution_count": 43,
   "id": "0a31b5a8",
   "metadata": {},
   "outputs": [
    {
     "name": "stdout",
     "output_type": "stream",
     "text": [
      "True\n"
     ]
    }
   ],
   "source": [
    "# Q10.Check if the tree is a binary tree\n",
    "\n",
    "class BT:\n",
    "    def __init__(self):\n",
    "        self.tree = {}\n",
    "\n",
    "    def add_node(self, parent, child):\n",
    "        if parent not in self.tree:\n",
    "            self.tree[parent] = []\n",
    "        self.tree[parent].append(child)\n",
    "\n",
    "    def is_binary_tree(self):\n",
    "        for node in self.tree:\n",
    "            if len(self.tree[node]) > 2:\n",
    "                return False\n",
    "        return True\n",
    "\n",
    "\n",
    "tree = BT()\n",
    "tree.add_node(1, 2)\n",
    "tree.add_node(1, 3)\n",
    "tree.add_node(2, 4)\n",
    "tree.add_node(2, 5)\n",
    "print(tree.is_binary_tree())  \n"
   ]
  },
  {
   "cell_type": "code",
   "execution_count": 44,
   "id": "cfd17d99",
   "metadata": {},
   "outputs": [
    {
     "name": "stdout",
     "output_type": "stream",
     "text": [
      "2\n"
     ]
    }
   ],
   "source": [
    "# Q11. Find the height of a tree\n",
    "\n",
    "class TreeHeight:\n",
    "    def __init__(self):\n",
    "        self.tree = {}\n",
    "\n",
    "    def add_node(self, parent, child):\n",
    "        if parent not in self.tree:\n",
    "            self.tree[parent] = []\n",
    "        self.tree[parent].append(child)\n",
    "\n",
    "    def find_height(self, node):\n",
    "        if node not in self.tree:\n",
    "            return 0\n",
    "        max_height = 0\n",
    "        for child in self.tree[node]:\n",
    "            max_height = max(max_height, self.find_height(child))\n",
    "        return max_height + 1\n",
    "\n",
    "\n",
    "tree = TreeHeight()\n",
    "tree.add_node(1, 2)\n",
    "tree.add_node(1, 3)\n",
    "tree.add_node(2, 4)\n",
    "tree.add_node(2, 5)\n",
    "print(tree.find_height(1))  \n"
   ]
  },
  {
   "cell_type": "code",
   "execution_count": 45,
   "id": "cd3b358b",
   "metadata": {},
   "outputs": [
    {
     "name": "stdout",
     "output_type": "stream",
     "text": [
      "2\n"
     ]
    }
   ],
   "source": [
    "# Q12.Find the depth of a node in the tree\n",
    "\n",
    "class TreeDepth:\n",
    "    def __init__(self):\n",
    "        self.tree = {}\n",
    "\n",
    "    def add_node(self, parent, child):\n",
    "        if parent not in self.tree:\n",
    "            self.tree[parent] = []\n",
    "        self.tree[parent].append(child)\n",
    "\n",
    "    def find_depth(self, node, target):\n",
    "        def dfs(v, depth):\n",
    "            if v == target:\n",
    "                return depth\n",
    "            for child in self.tree.get(v, []):\n",
    "                result = dfs(child, depth + 1)\n",
    "                if result != -1:\n",
    "                    return result\n",
    "            return -1\n",
    "\n",
    "        return dfs(node, 0)\n",
    "\n",
    "\n",
    "tree = TreeDepth()\n",
    "tree.add_node(1, 2)\n",
    "tree.add_node(1, 3)\n",
    "tree.add_node(2, 4)\n",
    "tree.add_node(2, 5)\n",
    "print(tree.find_depth(1, 4))  \n"
   ]
  },
  {
   "cell_type": "code",
   "execution_count": null,
   "id": "b92ad5db",
   "metadata": {},
   "outputs": [],
   "source": []
  }
 ],
 "metadata": {
  "kernelspec": {
   "display_name": "Python 3",
   "language": "python",
   "name": "python3"
  },
  "language_info": {
   "codemirror_mode": {
    "name": "ipython",
    "version": 3
   },
   "file_extension": ".py",
   "mimetype": "text/x-python",
   "name": "python",
   "nbconvert_exporter": "python",
   "pygments_lexer": "ipython3",
   "version": "3.12.10"
  }
 },
 "nbformat": 4,
 "nbformat_minor": 5
}
